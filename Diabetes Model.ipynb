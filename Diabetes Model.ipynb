{
 "cells": [
  {
   "cell_type": "code",
   "execution_count": 1,
   "metadata": {
    "collapsed": true
   },
   "outputs": [],
   "source": [
    "\"\"\"\n",
    "Created on Wed Jun 20 12:05:56 2018\n",
    "\n",
    "@author: swbatta\n",
    "\"\"\"\n",
    "\n",
    "import pandas as pd\n",
    "import seaborn as sns\n",
    "import numpy as np\n",
    "import matplotlib.pyplot as plt\n",
    "from sklearn.preprocessing import StandardScaler\n",
    "from sklearn.feature_extraction.text import CountVectorizer, TfidfTransformer, TfidfVectorizer\n",
    "from sklearn.model_selection import cross_val_score\n",
    "from sklearn.metrics import classification_report\n",
    "from sklearn.naive_bayes import MultinomialNB, BernoulliNB, GaussianNB\n",
    "from sklearn.pipeline import Pipeline\n",
    "from sklearn.linear_model import LogisticRegression\n",
    "from sklearn.model_selection import train_test_split\n",
    "from sklearn import metrics\n",
    "from sklearn.metrics import classification_report,confusion_matrix,accuracy_score\n",
    "from sklearn.neighbors import KNeighborsClassifier\n",
    "from sklearn.ensemble import RandomForestClassifier, ExtraTreesClassifier, BaggingClassifier\n",
    "from sklearn.metrics import roc_auc_score\n",
    "from sklearn.model_selection import GridSearchCV\n",
    "sns.set_style(\"darkgrid\")\n"
   ]
  },
  {
   "cell_type": "code",
   "execution_count": 2,
   "metadata": {},
   "outputs": [
    {
     "name": "stdout",
     "output_type": "stream",
     "text": [
      "Raw data shape:  (3143, 289)\n",
      "Number of features selected:  15\n"
     ]
    }
   ],
   "source": [
    "\n",
    "\n",
    "#Importing consolidated data file\n",
    "\n",
    "raw_data=pd.read_excel(r\"C:\\Users\\SwBatta\\Documents\\ML Guild contest\\Hackathon\\Consolidated dataset piece V3.xlsx\",sheetname=0)\n",
    "\n",
    "print(\"Raw data shape: \",raw_data.shape)\n",
    "\n",
    "columns_to_include =pd.read_excel(r\"C:\\Users\\SwBatta\\Documents\\ML Guild contest\\Hackathon\\Diabetes Feature selection.xlsx\")\n",
    "\n",
    "columns_list=columns_to_include[columns_to_include['Selected/not']==\"Selected\"].Variables.tolist()\n",
    "\n",
    "print(\"Number of features selected: \",len(columns_list))\n",
    "\n"
   ]
  },
  {
   "cell_type": "code",
   "execution_count": 4,
   "metadata": {},
   "outputs": [
    {
     "name": "stdout",
     "output_type": "stream",
     "text": [
      "Missing_values\n",
      "Adult diabetes rate, 2008                          5\n",
      "Population-loss counties, 2010                     2\n",
      "Per Capita income, 2009                            0\n",
      "Metro/nonmetro counties, 2010                      0\n",
      "Persistent-poverty counties, 2010                  0\n",
      "% Population 65 years or older, 2010               0\n",
      "Recreation & fitness facilities/1,000 pop, 2009    0\n",
      "Expenditures per capita, restaurants, 2007*        0\n",
      "Expenditures per capita, fast food, 2007*          0\n",
      "Fast-food restaurants/1,000 pop, 2009              0\n",
      "WIC-authorized stores/1,000 pop, 2008              0\n",
      "SNAP-authorized stores/1,000 pop, 2012             0\n",
      "Grocery stores/1,000 pop, 2009                     0\n",
      "Population, low access to store (%), 2010          0\n",
      "FIPS                                               0\n",
      "dtype: int64\n"
     ]
    },
    {
     "name": "stderr",
     "output_type": "stream",
     "text": [
      "C:\\Users\\SwBatta\\AppData\\Local\\Continuum\\Anaconda3\\lib\\site-packages\\ipykernel_launcher.py:20: SettingWithCopyWarning: \n",
      "A value is trying to be set on a copy of a slice from a DataFrame.\n",
      "Try using .loc[row_indexer,col_indexer] = value instead\n",
      "\n",
      "See the caveats in the documentation: http://pandas.pydata.org/pandas-docs/stable/indexing.html#indexing-view-versus-copy\n"
     ]
    },
    {
     "name": "stdout",
     "output_type": "stream",
     "text": [
      "Missing_values after imputation\n",
      "Per Capita income, 2009                            0\n",
      "Population-loss counties, 2010                     0\n",
      "Metro/nonmetro counties, 2010                      0\n",
      "Persistent-poverty counties, 2010                  0\n",
      "% Population 65 years or older, 2010               0\n",
      "Recreation & fitness facilities/1,000 pop, 2009    0\n",
      "Adult diabetes rate, 2008                          0\n",
      "Expenditures per capita, restaurants, 2007*        0\n",
      "Expenditures per capita, fast food, 2007*          0\n",
      "Fast-food restaurants/1,000 pop, 2009              0\n",
      "WIC-authorized stores/1,000 pop, 2008              0\n",
      "SNAP-authorized stores/1,000 pop, 2012             0\n",
      "Grocery stores/1,000 pop, 2009                     0\n",
      "Population, low access to store (%), 2010          0\n",
      "FIPS                                               0\n",
      "dtype: int64\n"
     ]
    }
   ],
   "source": [
    "#Data manipulation: Convert FIPS to string\n",
    "\n",
    "raw_data['FIPS']=raw_data['FIPS'].astype(str)\n",
    "reduced_data = raw_data[columns_list]\n",
    "\n",
    "data_N = reduced_data\n",
    "# Select only numeric data(drops State)\n",
    "\n",
    "numerical_features = data_N.select_dtypes(include=[np.number]).columns.tolist()\n",
    "\n",
    "#Checking for missing values\n",
    "\n",
    "Missing_values=pd.DataFrame(data_N).isnull().sum().sort_values(ascending=False)\n",
    "print(\"Missing_values\")\n",
    "print(Missing_values)\n",
    "\n",
    "#Imputing missing values with median\n",
    "\n",
    "for column in numerical_features:\n",
    "    data_N[column]=data_N[column].fillna(data_N[column].median())\n",
    "\n",
    "#Checking for missing values\n",
    "\n",
    "Missing_values_new=pd.DataFrame(data_N).isnull().sum().sort_values(ascending=False)\n",
    "print(\"Missing_values after imputation\")\n",
    "print(Missing_values_new)\n"
   ]
  },
  {
   "cell_type": "code",
   "execution_count": 5,
   "metadata": {},
   "outputs": [
    {
     "name": "stdout",
     "output_type": "stream",
     "text": [
      "diabetes: 9.91307667833283\n"
     ]
    },
    {
     "name": "stderr",
     "output_type": "stream",
     "text": [
      "C:\\Users\\SwBatta\\AppData\\Local\\Continuum\\Anaconda3\\lib\\site-packages\\ipykernel_launcher.py:6: SettingWithCopyWarning: \n",
      "A value is trying to be set on a copy of a slice from a DataFrame.\n",
      "Try using .loc[row_indexer,col_indexer] = value instead\n",
      "\n",
      "See the caveats in the documentation: http://pandas.pydata.org/pandas-docs/stable/indexing.html#indexing-view-versus-copy\n",
      "  \n",
      "C:\\Users\\SwBatta\\AppData\\Local\\Continuum\\Anaconda3\\lib\\site-packages\\pandas\\core\\indexing.py:517: SettingWithCopyWarning: \n",
      "A value is trying to be set on a copy of a slice from a DataFrame.\n",
      "Try using .loc[row_indexer,col_indexer] = value instead\n",
      "\n",
      "See the caveats in the documentation: http://pandas.pydata.org/pandas-docs/stable/indexing.html#indexing-view-versus-copy\n",
      "  self.obj[item] = s\n"
     ]
    }
   ],
   "source": [
    "\n",
    "# What is the national average rate of diabetes?\n",
    "print('diabetes:', data_N['Adult diabetes rate, 2008'].mean())\n",
    "\n",
    "# Create the target variable (diabetes)\n",
    "data_N['hi_diabetes']=0\n",
    "data_N.loc[data_N['Adult diabetes rate, 2008']>data_N['Adult diabetes rate, 2008'].mean(), 'hi_diabetes']=1\n",
    "data_N['hi_diabetes'].value_counts()\n",
    "\n",
    "\n",
    "#Defining dependent variable\n",
    "\n",
    "\n",
    "dep_var = ['hi_diabetes']\n",
    "\n",
    "y = data_N[dep_var]\n",
    "   \n",
    "data_T=data_N[numerical_features]\n",
    "\n",
    "# Feature Scaling\n",
    "\n",
    "sc = StandardScaler()\n",
    "X = sc.fit_transform(data_T)\n",
    "\n",
    "X_T = pd.DataFrame(X, columns = numerical_features)\n"
   ]
  },
  {
   "cell_type": "code",
   "execution_count": 6,
   "metadata": {
    "collapsed": true
   },
   "outputs": [],
   "source": [
    "\n",
    "#Splitting the data between train and test data sets\n",
    "\n",
    "X_train, X_test, y_train, y_test = train_test_split(X_T, y, test_size=0.2, random_state=42)\n",
    "\n",
    "#Observing the correlations between variables\n",
    "\n",
    "corrmat = X_train.corr()\n",
    "\n",
    "# Get current size\n",
    "fig_size = plt.rcParams[\"figure.figsize\"]\n",
    " \n",
    "# Prints: [6.0, 4.0]\n",
    "#print(\"Current size:\",fig_size) \n",
    "\n",
    " \n",
    "# Set figure width to 12 and height to 9\n",
    "fig_size[0] = 12\n",
    "fig_size[1] = 9\n",
    "plt.rcParams[\"figure.figsize\"] = fig_size\n",
    "\n"
   ]
  },
  {
   "cell_type": "code",
   "execution_count": 7,
   "metadata": {},
   "outputs": [
    {
     "name": "stdout",
     "output_type": "stream",
     "text": [
      "['Population, low access to store (%), 2010', 'Grocery stores/1,000 pop, 2009', 'SNAP-authorized stores/1,000 pop, 2012', 'WIC-authorized stores/1,000 pop, 2008', 'Fast-food restaurants/1,000 pop, 2009', 'Expenditures per capita, fast food, 2007*', 'Expenditures per capita, restaurants, 2007*', 'Adult diabetes rate, 2008', 'Recreation & fitness facilities/1,000 pop, 2009', '% Population 65 years or older, 2010', 'Persistent-poverty counties, 2010', 'Metro/nonmetro counties, 2010', 'Population-loss counties, 2010', 'Per Capita income, 2009']\n",
      "['Metro/nonmetro counties, 2010', 'Grocery stores/1,000 pop, 2009', 'Population, low access to store (%), 2010', 'SNAP-authorized stores/1,000 pop, 2012', 'Persistent-poverty counties, 2010', 'Population-loss counties, 2010', 'Expenditures per capita, fast food, 2007*', 'Fast-food restaurants/1,000 pop, 2009', 'Recreation & fitness facilities/1,000 pop, 2009', 'Expenditures per capita, restaurants, 2007*', 'WIC-authorized stores/1,000 pop, 2008', 'Per Capita income, 2009', '% Population 65 years or older, 2010']\n",
      "(2514, 1)\n",
      "(629, 13)\n"
     ]
    }
   ],
   "source": [
    "\n",
    "#Plotting a heatmap to observe the correlations\n",
    "\n",
    "sns.heatmap(corrmat, vmax=1., square=False).xaxis.tick_top()\n",
    "\n",
    "#Observing the correlations of features with target variable\n",
    "\n",
    "target = y_train.columns.values[0]\n",
    "\n",
    "features = X_train.columns.tolist()\n",
    "print(features)\n",
    "\n",
    "\n",
    "\n",
    "remove=['Adult diabetes rate, 2008']\n",
    "\n",
    " \n",
    "features_N = list(set(features) - set(remove))\n",
    "print(features_N)\n",
    "\n",
    "X_train_new = X_train[features_N]\n",
    "X_test_new = X_test[features_N]\n",
    "print(y_train.shape)\n",
    "print(X_test_new.shape)\n"
   ]
  },
  {
   "cell_type": "code",
   "execution_count": 10,
   "metadata": {},
   "outputs": [
    {
     "name": "stdout",
     "output_type": "stream",
     "text": [
      "best accuracy: 0.8062848050914877\n",
      "best parameters: {'min_samples_leaf': 20, 'n_estimators': 35}\n"
     ]
    }
   ],
   "source": [
    "\n",
    "###### Fitting Random Forest Classification to the Training set\n",
    "from sklearn.ensemble import RandomForestClassifier\n",
    "from sklearn.model_selection import cross_val_score\n",
    "\n",
    "classifier = RandomForestClassifier(n_estimators = 25, criterion = 'entropy', random_state = 42, min_samples_leaf=20)\n",
    "classifier.fit(X_train_new, y_train.values.flatten())\n",
    "\n",
    "#Applying grid search to find the best model and best parameters\n",
    "\n",
    "from sklearn.model_selection import GridSearchCV\n",
    "parameters = [{'min_samples_leaf':[20,30,50,100,200],'n_estimators':[5,10,15,20,25,30,35,40]}\n",
    "        ]\n",
    "grid_search = GridSearchCV(estimator=classifier, param_grid = parameters, scoring = 'accuracy', cv=5)\n",
    "\n",
    "grid_search = grid_search.fit(X_train_new, y_train.values.flatten())\n",
    "best_accuracy = grid_search.best_score_\n",
    "print(\"best accuracy:\",best_accuracy)\n",
    "best_parameters  = grid_search.best_params_\n",
    "print(\"best parameters:\",best_parameters)\n"
   ]
  },
  {
   "cell_type": "code",
   "execution_count": 11,
   "metadata": {},
   "outputs": [
    {
     "name": "stdout",
     "output_type": "stream",
     "text": [
      "(13, 1)\n",
      "K fold Accuracy: 0.81 (+/- 0.04)\n",
      "test set accuracy: 0.8282988871224165\n",
      "test set Precision: 0.856655290102389\n",
      "test set Recall: 0.7917981072555205\n",
      "test set F1 Score: 0.8229508196721311\n"
     ]
    }
   ],
   "source": [
    "# Found the best params to be...\n",
    "\n",
    "classifier = RandomForestClassifier(n_estimators = 35, criterion = 'entropy', random_state = 42, min_samples_leaf=20)\n",
    "classifier.fit(X_train_new, y_train.values.flatten())\n",
    "\n",
    "feature_importances = pd.DataFrame(classifier.feature_importances_,\n",
    "                                   index = X_train_new.columns,\n",
    "                                    columns=['importance']).sort_values('importance', ascending=False)\n",
    "\n",
    "print(feature_importances.shape)\n",
    "\n",
    "new_features = feature_importances[feature_importances.importance>0.03].index.values\n",
    "\n",
    "X_train_new1 = X_train_new[new_features]\n",
    "X_test_new1 = X_test_new[new_features]\n",
    "\n",
    "classifier.fit(X_train_new1, y_train.values.flatten())\n",
    "\n",
    "#Applying Cross Validation; printing the mean score and the 95% confidence interval of the score estimate\n",
    "scores = cross_val_score(classifier, X_train_new1, y_train.values.flatten(), cv=5)\n",
    "print(\"K fold Accuracy: %0.2f (+/- %0.2f)\" % (scores.mean(), scores.std() * 2))\n",
    "\n",
    "# Predicting the Test set results \n",
    "y_pred = classifier.predict(X_test_new1)\n",
    "\n",
    "# Making the Confusion Matrix\n",
    "from sklearn.metrics import confusion_matrix\n",
    "cm = confusion_matrix(y_test, y_pred)\n",
    "test_set_accuracy = (cm[0][0]+cm[1][1])/(cm[0][0]+cm[0][1]+cm[1][0]+cm[1][1])\n",
    "print(\"test set accuracy:\",test_set_accuracy)\n",
    "\n",
    "#Computing Precision\n",
    "from sklearn.metrics import precision_score\n",
    "Precision=precision_score(y_test,y_pred)\n",
    "print(\"test set Precision:\",Precision)\n",
    "\n",
    "#Computing Recall\n",
    "from sklearn.metrics import recall_score\n",
    "Recall = recall_score(y_test,y_pred)\n",
    "print(\"test set Recall:\",Recall)\n",
    "\n",
    "\n",
    "#Computing F1 Score\n",
    "from sklearn.metrics import f1_score\n",
    "F1_Score=f1_score(y_test,y_pred)\n",
    "print(\"test set F1 Score:\",F1_Score)\n"
   ]
  },
  {
   "cell_type": "code",
   "execution_count": 13,
   "metadata": {},
   "outputs": [
    {
     "data": {
      "image/png": "[encoded data removed]",
      "text/plain": [
       "<matplotlib.figure.Figure at 0x27bb2860e48>"
      ]
     },
     "metadata": {},
     "output_type": "display_data"
    }
   ],
   "source": [
    "\n",
    "#ROC-AUC\n",
    "y_pred_probab = classifier.predict_proba(X_test_new1)[:,1]\n",
    "fpr, tpr, _ = metrics.roc_curve(y_test,  y_pred_probab)\n",
    "auc = metrics.roc_auc_score(y_test, y_pred_probab)\n",
    "plt.title('Receiver Operating Characteristic')\n",
    "plt.plot([0,1],[0,1],label=\"random classifier auc=0.5\")\n",
    "plt.plot(fpr,tpr,label=\"model auc=\"+str(auc))\n",
    "plt.legend(loc=4)\n",
    "plt.ylabel('True Positive Rate')\n",
    "plt.xlabel('False Positive Rate')\n",
    "plt.show()"
   ]
  },
  {
   "cell_type": "code",
   "execution_count": 14,
   "metadata": {},
   "outputs": [
    {
     "name": "stderr",
     "output_type": "stream",
     "text": [
      "C:\\Users\\SwBatta\\AppData\\Local\\Continuum\\Anaconda3\\lib\\site-packages\\ipykernel_launcher.py:5: SettingWithCopyWarning: \n",
      "A value is trying to be set on a copy of a slice from a DataFrame.\n",
      "Try using .loc[row_indexer,col_indexer] = value instead\n",
      "\n",
      "See the caveats in the documentation: http://pandas.pydata.org/pandas-docs/stable/indexing.html#indexing-view-versus-copy\n",
      "  \"\"\"\n",
      "C:\\Users\\SwBatta\\AppData\\Local\\Continuum\\Anaconda3\\lib\\site-packages\\ipykernel_launcher.py:6: SettingWithCopyWarning: \n",
      "A value is trying to be set on a copy of a slice from a DataFrame.\n",
      "Try using .loc[row_indexer,col_indexer] = value instead\n",
      "\n",
      "See the caveats in the documentation: http://pandas.pydata.org/pandas-docs/stable/indexing.html#indexing-view-versus-copy\n",
      "  \n",
      "C:\\Users\\SwBatta\\AppData\\Local\\Continuum\\Anaconda3\\lib\\site-packages\\ipykernel_launcher.py:7: SettingWithCopyWarning: \n",
      "A value is trying to be set on a copy of a slice from a DataFrame.\n",
      "Try using .loc[row_indexer,col_indexer] = value instead\n",
      "\n",
      "See the caveats in the documentation: http://pandas.pydata.org/pandas-docs/stable/indexing.html#indexing-view-versus-copy\n",
      "  import sys\n",
      "C:\\Users\\SwBatta\\AppData\\Local\\Continuum\\Anaconda3\\lib\\site-packages\\ipykernel_launcher.py:8: SettingWithCopyWarning: \n",
      "A value is trying to be set on a copy of a slice from a DataFrame.\n",
      "Try using .loc[row_indexer,col_indexer] = value instead\n",
      "\n",
      "See the caveats in the documentation: http://pandas.pydata.org/pandas-docs/stable/indexing.html#indexing-view-versus-copy\n",
      "  \n",
      "C:\\Users\\SwBatta\\AppData\\Local\\Continuum\\Anaconda3\\lib\\site-packages\\ipykernel_launcher.py:10: SettingWithCopyWarning: \n",
      "A value is trying to be set on a copy of a slice from a DataFrame.\n",
      "Try using .loc[row_indexer,col_indexer] = value instead\n",
      "\n",
      "See the caveats in the documentation: http://pandas.pydata.org/pandas-docs/stable/indexing.html#indexing-view-versus-copy\n",
      "  # Remove the CWD from sys.path while we load stuff.\n",
      "C:\\Users\\SwBatta\\AppData\\Local\\Continuum\\Anaconda3\\lib\\site-packages\\ipykernel_launcher.py:11: SettingWithCopyWarning: \n",
      "A value is trying to be set on a copy of a slice from a DataFrame.\n",
      "Try using .loc[row_indexer,col_indexer] = value instead\n",
      "\n",
      "See the caveats in the documentation: http://pandas.pydata.org/pandas-docs/stable/indexing.html#indexing-view-versus-copy\n",
      "  # This is added back by InteractiveShellApp.init_path()\n",
      "C:\\Users\\SwBatta\\AppData\\Local\\Continuum\\Anaconda3\\lib\\site-packages\\pandas\\core\\indexing.py:179: SettingWithCopyWarning: \n",
      "A value is trying to be set on a copy of a slice from a DataFrame\n",
      "\n",
      "See the caveats in the documentation: http://pandas.pydata.org/pandas-docs/stable/indexing.html#indexing-view-versus-copy\n",
      "  self._setitem_with_indexer(indexer, value)\n",
      "C:\\Users\\SwBatta\\AppData\\Local\\Continuum\\Anaconda3\\lib\\site-packages\\ipykernel_launcher.py:13: SettingWithCopyWarning: \n",
      "A value is trying to be set on a copy of a slice from a DataFrame\n",
      "\n",
      "See the caveats in the documentation: http://pandas.pydata.org/pandas-docs/stable/indexing.html#indexing-view-versus-copy\n",
      "  del sys.path[0]\n"
     ]
    },
    {
     "data": {
      "image/png": "[encoded data removed]",
      "text/plain": [
       "<matplotlib.figure.Figure at 0x27bb29982b0>"
      ]
     },
     "metadata": {},
     "output_type": "display_data"
    }
   ],
   "source": [
    "#Feature importance\n",
    "features_IMP =  feature_importances[feature_importances.importance>0.03]\n",
    "\n",
    "#Remove year from Feature name\n",
    "features_IMP['feature']=features_IMP.index.values\n",
    "features_IMP['feature_new']= features_IMP['feature'].str.strip()\n",
    "features_IMP['feature_new']=features_IMP['feature_new'].str.split(\",\")\n",
    "features_IMP['len']= features_IMP['feature_new'].str.len()-1\n",
    "for i in features_IMP['len'].astype(int):\n",
    "    features_IMP['Req feature name']=features_IMP['feature_new'].str[:-i+1]\n",
    "features_IMP['New feature name']=\"\"\n",
    "for i in range(len(features_IMP)):\n",
    "    features_IMP['New feature name'].iloc[i] = ','.join(features_IMP.iloc[i,4])\n",
    " \n",
    "plt.barh(range(len(features_IMP['importance'])), features_IMP['importance'], color='b', align='center')\n",
    "plt.yticks(range(len(features_IMP['importance'])), features_IMP['New feature name'])\n",
    "plt.gca().invert_yaxis()\n",
    "plt.xlabel('Relative Importance')\n",
    "plt.show()"
   ]
  },
  {
   "cell_type": "code",
   "execution_count": 15,
   "metadata": {
    "collapsed": true
   },
   "outputs": [],
   "source": [
    "\n",
    "#Exporting FIPS and pred probabilities\n",
    "X_F=X_train_new1.append(X_test_new1)\n",
    "\n",
    "Y_F=y_train.append(y_test)\n",
    "\n",
    "# Predicting the Test set results \n",
    "y_hats2 = classifier.predict(X_F)\n",
    "\n",
    "PP = classifier.predict_proba(X_F)[:,1]\n",
    "\n",
    "X_F['Pred_prob']=PP\n",
    "\n",
    "Final_file = pd.merge(X_F['Pred_prob'].to_frame(), data_N['FIPS'].to_frame(), left_index=True, right_index=True)\n",
    "\n",
    "Final_file.to_csv(r\"C:\\Users\\SwBatta\\Documents\\ML Guild contest\\Hackathon\\Diabetes_RF_pred_probabilities.csv\")\n",
    "\n",
    "\n"
   ]
  },
  {
   "cell_type": "code",
   "execution_count": null,
   "metadata": {
    "collapsed": true
   },
   "outputs": [],
   "source": []
  }
 ],
 "metadata": {
  "kernelspec": {
   "display_name": "Python 3",
   "language": "python",
   "name": "python3"
  },
  "language_info": {
   "codemirror_mode": {
    "name": "ipython",
    "version": 3
   },
   "file_extension": ".py",
   "mimetype": "text/x-python",
   "name": "python",
   "nbconvert_exporter": "python",
   "pygments_lexer": "ipython3",
   "version": "3.6.1"
  }
 },
 "nbformat": 4,
 "nbformat_minor": 2
}
